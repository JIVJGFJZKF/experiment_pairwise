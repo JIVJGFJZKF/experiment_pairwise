{
 "cells": [
  {
   "cell_type": "code",
   "execution_count": 1,
   "id": "outstanding-apparatus",
   "metadata": {},
   "outputs": [],
   "source": [
    "import choix\n",
    "import networkx as nx\n",
    "import numpy as np\n",
    "import matplotlib.pyplot as plt"
   ]
  },
  {
   "cell_type": "code",
   "execution_count": 2,
   "id": "verbal-imagination",
   "metadata": {},
   "outputs": [],
   "source": [
    "%matplotlib inline\n",
    "np.set_printoptions(precision=3, suppress=True)"
   ]
  },
  {
   "cell_type": "code",
   "execution_count": 3,
   "id": "economic-fashion",
   "metadata": {},
   "outputs": [],
   "source": [
    "n_items = 5\n",
    "data = [(1, 0), (0, 4), (3, 1),\n",
    "    (0, 2), (2, 4), (4, 3)]"
   ]
  },
  {
   "cell_type": "code",
   "execution_count": 4,
   "id": "numerical-principle",
   "metadata": {},
   "outputs": [
    {
     "data": {
      "image/png": "[encoded data removed]",
      "text/plain": [
       "<Figure size 432x288 with 1 Axes>"
      ]
     },
     "metadata": {},
     "output_type": "display_data"
    }
   ],
   "source": [
    "graph = nx.DiGraph(data=data)\n",
    "nx.draw(graph,with_labels=True)\n",
    "plt.show()"
   ]
  },
  {
   "cell_type": "code",
   "execution_count": 5,
   "id": "later-parks",
   "metadata": {},
   "outputs": [
    {
     "name": "stdout",
     "output_type": "stream",
     "text": [
      "[ 0.583  0.194 -0.    -0.194 -0.583]\n"
     ]
    }
   ],
   "source": [
    "params = choix.ilsr_pairwise(n_items, data)\n",
    "print(params)"
   ]
  },
  {
   "cell_type": "code",
   "execution_count": 6,
   "id": "unexpected-shopper",
   "metadata": {},
   "outputs": [
    {
     "name": "stdout",
     "output_type": "stream",
     "text": [
      "ranking (worst to best): [4 3 2 1 0]\n"
     ]
    }
   ],
   "source": [
    "print(\"ranking (worst to best):\", np.argsort(params))"
   ]
  },
  {
   "cell_type": "code",
   "execution_count": 7,
   "id": "german-shell",
   "metadata": {},
   "outputs": [
    {
     "name": "stdout",
     "output_type": "stream",
     "text": [
      "Prob(1 wins over 4): 0.69\n"
     ]
    }
   ],
   "source": [
    "prob_1_wins, prob_4_wins = choix.probabilities([1, 4], params)\n",
    "print(\"Prob(1 wins over 4): {:.2f}\".format(prob_1_wins))"
   ]
  },
  {
   "cell_type": "code",
   "execution_count": null,
   "id": "accepting-grain",
   "metadata": {},
   "outputs": [],
   "source": []
  },
  {
   "cell_type": "code",
   "execution_count": 9,
   "id": "solid-secretary",
   "metadata": {},
   "outputs": [
    {
     "data": {
      "image/png": "[encoded data removed]",
      "text/plain": [
       "<Figure size 432x288 with 1 Axes>"
      ]
     },
     "metadata": {},
     "output_type": "display_data"
    }
   ],
   "source": [
    "n_items = 4\n",
    "data = [(3, 2), (2, 1), (1, 0)]\n",
    "\n",
    "graph = nx.DiGraph(data=data)\n",
    "nx.draw(graph,with_labels=True)"
   ]
  },
  {
   "cell_type": "code",
   "execution_count": 10,
   "id": "complicated-jackson",
   "metadata": {},
   "outputs": [
    {
     "name": "stderr",
     "output_type": "stream",
     "text": [
      "/Users/sesposito/opt/anaconda3/envs/Py3Pairs/lib/python3.7/site-packages/choix/utils.py:18: RuntimeWarning: divide by zero encountered in log\n",
      "  params = np.log(weights)\n",
      "/Users/sesposito/opt/anaconda3/envs/Py3Pairs/lib/python3.7/site-packages/choix/utils.py:19: RuntimeWarning: invalid value encountered in subtract\n",
      "  return params - params.mean()\n"
     ]
    },
    {
     "ename": "RuntimeError",
     "evalue": "Did not converge after 100 iterations",
     "output_type": "error",
     "traceback": [
      "\u001b[0;31m---------------------------------------------------------------------------\u001b[0m",
      "\u001b[0;31mRuntimeError\u001b[0m                              Traceback (most recent call last)",
      "\u001b[0;32m<ipython-input-10-60eda93a14c9>\u001b[0m in \u001b[0;36m<module>\u001b[0;34m\u001b[0m\n\u001b[0;32m----> 1\u001b[0;31m \u001b[0mchoix\u001b[0m\u001b[0;34m.\u001b[0m\u001b[0milsr_pairwise\u001b[0m\u001b[0;34m(\u001b[0m\u001b[0mn_items\u001b[0m\u001b[0;34m,\u001b[0m \u001b[0mdata\u001b[0m\u001b[0;34m)\u001b[0m\u001b[0;34m\u001b[0m\u001b[0;34m\u001b[0m\u001b[0m\n\u001b[0m",
      "\u001b[0;32m~/opt/anaconda3/envs/Py3Pairs/lib/python3.7/site-packages/choix/lsr.py\u001b[0m in \u001b[0;36milsr_pairwise\u001b[0;34m(n_items, data, alpha, initial_params, max_iter, tol)\u001b[0m\n\u001b[1;32m    107\u001b[0m     fun = functools.partial(\n\u001b[1;32m    108\u001b[0m             lsr_pairwise, n_items=n_items, data=data, alpha=alpha)\n\u001b[0;32m--> 109\u001b[0;31m     \u001b[0;32mreturn\u001b[0m \u001b[0m_ilsr\u001b[0m\u001b[0;34m(\u001b[0m\u001b[0mfun\u001b[0m\u001b[0;34m,\u001b[0m \u001b[0minitial_params\u001b[0m\u001b[0;34m,\u001b[0m \u001b[0mmax_iter\u001b[0m\u001b[0;34m,\u001b[0m \u001b[0mtol\u001b[0m\u001b[0;34m)\u001b[0m\u001b[0;34m\u001b[0m\u001b[0;34m\u001b[0m\u001b[0m\n\u001b[0m\u001b[1;32m    110\u001b[0m \u001b[0;34m\u001b[0m\u001b[0m\n\u001b[1;32m    111\u001b[0m \u001b[0;34m\u001b[0m\u001b[0m\n",
      "\u001b[0;32m~/opt/anaconda3/envs/Py3Pairs/lib/python3.7/site-packages/choix/lsr.py\u001b[0m in \u001b[0;36m_ilsr\u001b[0;34m(fun, params, max_iter, tol)\u001b[0m\n\u001b[1;32m     31\u001b[0m         \u001b[0;32mif\u001b[0m \u001b[0mconverged\u001b[0m\u001b[0;34m(\u001b[0m\u001b[0mparams\u001b[0m\u001b[0;34m)\u001b[0m\u001b[0;34m:\u001b[0m\u001b[0;34m\u001b[0m\u001b[0;34m\u001b[0m\u001b[0m\n\u001b[1;32m     32\u001b[0m             \u001b[0;32mreturn\u001b[0m \u001b[0mparams\u001b[0m\u001b[0;34m\u001b[0m\u001b[0;34m\u001b[0m\u001b[0m\n\u001b[0;32m---> 33\u001b[0;31m     \u001b[0;32mraise\u001b[0m \u001b[0mRuntimeError\u001b[0m\u001b[0;34m(\u001b[0m\u001b[0;34m\"Did not converge after {} iterations\"\u001b[0m\u001b[0;34m.\u001b[0m\u001b[0mformat\u001b[0m\u001b[0;34m(\u001b[0m\u001b[0mmax_iter\u001b[0m\u001b[0;34m)\u001b[0m\u001b[0;34m)\u001b[0m\u001b[0;34m\u001b[0m\u001b[0;34m\u001b[0m\u001b[0m\n\u001b[0m\u001b[1;32m     34\u001b[0m \u001b[0;34m\u001b[0m\u001b[0m\n\u001b[1;32m     35\u001b[0m \u001b[0;34m\u001b[0m\u001b[0m\n",
      "\u001b[0;31mRuntimeError\u001b[0m: Did not converge after 100 iterations"
     ]
    }
   ],
   "source": [
    "choix.ilsr_pairwise(n_items, data)"
   ]
  },
  {
   "cell_type": "code",
   "execution_count": 11,
   "id": "exact-nickname",
   "metadata": {},
   "outputs": [
    {
     "data": {
      "text/plain": [
       "array([-4.159, -0.979,  1.483,  3.655])"
      ]
     },
     "execution_count": 11,
     "metadata": {},
     "output_type": "execute_result"
    }
   ],
   "source": [
    "choix.ilsr_pairwise(n_items, data, alpha=0.01)"
   ]
  },
  {
   "cell_type": "code",
   "execution_count": null,
   "id": "federal-hormone",
   "metadata": {},
   "outputs": [],
   "source": []
  }
 ],
 "metadata": {
  "kernelspec": {
   "display_name": "Python 3",
   "language": "python",
   "name": "python3"
  },
  "language_info": {
   "codemirror_mode": {
    "name": "ipython",
    "version": 3
   },
   "file_extension": ".py",
   "mimetype": "text/x-python",
   "name": "python",
   "nbconvert_exporter": "python",
   "pygments_lexer": "ipython3",
   "version": "3.7.10"
  }
 },
 "nbformat": 4,
 "nbformat_minor": 5
}
